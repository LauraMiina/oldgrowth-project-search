{
 "cells": [
  {
   "cell_type": "markdown",
   "metadata": {},
   "source": [
    "# Getting the map data from the Forest Service Arcgis environment\n",
    "Using esri2gpd: https://github.com/PhilaController/esri2gpd\n",
    "Data got from here: https://apps.fs.usda.gov/fsgisx02/rest/services/wo_nfs_gstc/WO_OSC_GapAnalysis_OldGrowthAndMatureForests/MapServer/29"
   ]
  },
  {
   "cell_type": "code",
   "execution_count": 1,
   "metadata": {},
   "outputs": [
    {
     "name": "stdout",
     "output_type": "stream",
     "text": [
      "Collecting esri2gpd\n",
      "  Obtaining dependency information for esri2gpd from https://files.pythonhosted.org/packages/bc/2b/c80b1193910982987154b85c9adaf76f3751f734ce9d60b5ee46066653d3/esri2gpd-1.0.13-py3-none-any.whl.metadata\n",
      "  Downloading esri2gpd-1.0.13-py3-none-any.whl.metadata (604 bytes)\n",
      "Collecting arcgis2geojson<3.0.0,>=2.0.1 (from esri2gpd)\n",
      "  Obtaining dependency information for arcgis2geojson<3.0.0,>=2.0.1 from https://files.pythonhosted.org/packages/bc/ba/63a864c36846908d251f8687170fc07ee37e2fb015ebfa6579356b0ff305/arcgis2geojson-2.0.1-py3-none-any.whl.metadata\n",
      "  Downloading arcgis2geojson-2.0.1-py3-none-any.whl.metadata (3.7 kB)\n",
      "Requirement already satisfied: geopandas>=0.6 in /Users/laura.kukkonen/.pyenv/versions/3.11.6/lib/python3.11/site-packages (from esri2gpd) (0.14.3)\n",
      "Requirement already satisfied: requests<3,>=2 in /Users/laura.kukkonen/.pyenv/versions/3.11.6/lib/python3.11/site-packages (from esri2gpd) (2.31.0)\n",
      "Requirement already satisfied: fiona>=1.8.21 in /Users/laura.kukkonen/.pyenv/versions/3.11.6/lib/python3.11/site-packages (from geopandas>=0.6->esri2gpd) (1.9.5)\n",
      "Requirement already satisfied: packaging in /Users/laura.kukkonen/.pyenv/versions/3.11.6/lib/python3.11/site-packages (from geopandas>=0.6->esri2gpd) (23.2)\n",
      "Requirement already satisfied: pandas>=1.4.0 in /Users/laura.kukkonen/.pyenv/versions/3.11.6/lib/python3.11/site-packages (from geopandas>=0.6->esri2gpd) (2.1.3)\n",
      "Requirement already satisfied: pyproj>=3.3.0 in /Users/laura.kukkonen/.pyenv/versions/3.11.6/lib/python3.11/site-packages (from geopandas>=0.6->esri2gpd) (3.6.1)\n",
      "Requirement already satisfied: shapely>=1.8.0 in /Users/laura.kukkonen/.pyenv/versions/3.11.6/lib/python3.11/site-packages (from geopandas>=0.6->esri2gpd) (2.0.3)\n",
      "Requirement already satisfied: charset-normalizer<4,>=2 in /Users/laura.kukkonen/.pyenv/versions/3.11.6/lib/python3.11/site-packages (from requests<3,>=2->esri2gpd) (3.3.1)\n",
      "Requirement already satisfied: idna<4,>=2.5 in /Users/laura.kukkonen/.pyenv/versions/3.11.6/lib/python3.11/site-packages (from requests<3,>=2->esri2gpd) (3.4)\n",
      "Requirement already satisfied: urllib3<3,>=1.21.1 in /Users/laura.kukkonen/.pyenv/versions/3.11.6/lib/python3.11/site-packages (from requests<3,>=2->esri2gpd) (1.26.18)\n",
      "Requirement already satisfied: certifi>=2017.4.17 in /Users/laura.kukkonen/.pyenv/versions/3.11.6/lib/python3.11/site-packages (from requests<3,>=2->esri2gpd) (2023.7.22)\n",
      "Requirement already satisfied: attrs>=19.2.0 in /Users/laura.kukkonen/.pyenv/versions/3.11.6/lib/python3.11/site-packages (from fiona>=1.8.21->geopandas>=0.6->esri2gpd) (23.1.0)\n",
      "Requirement already satisfied: click~=8.0 in /Users/laura.kukkonen/.pyenv/versions/3.11.6/lib/python3.11/site-packages (from fiona>=1.8.21->geopandas>=0.6->esri2gpd) (8.1.7)\n",
      "Requirement already satisfied: click-plugins>=1.0 in /Users/laura.kukkonen/.pyenv/versions/3.11.6/lib/python3.11/site-packages (from fiona>=1.8.21->geopandas>=0.6->esri2gpd) (1.1.1)\n",
      "Requirement already satisfied: cligj>=0.5 in /Users/laura.kukkonen/.pyenv/versions/3.11.6/lib/python3.11/site-packages (from fiona>=1.8.21->geopandas>=0.6->esri2gpd) (0.7.2)\n",
      "Requirement already satisfied: six in /Users/laura.kukkonen/.pyenv/versions/3.11.6/lib/python3.11/site-packages (from fiona>=1.8.21->geopandas>=0.6->esri2gpd) (1.16.0)\n",
      "Requirement already satisfied: setuptools in /Users/laura.kukkonen/.pyenv/versions/3.11.6/lib/python3.11/site-packages (from fiona>=1.8.21->geopandas>=0.6->esri2gpd) (65.5.0)\n",
      "Requirement already satisfied: numpy<2,>=1.23.2 in /Users/laura.kukkonen/.pyenv/versions/3.11.6/lib/python3.11/site-packages (from pandas>=1.4.0->geopandas>=0.6->esri2gpd) (1.26.2)\n",
      "Requirement already satisfied: python-dateutil>=2.8.2 in /Users/laura.kukkonen/.pyenv/versions/3.11.6/lib/python3.11/site-packages (from pandas>=1.4.0->geopandas>=0.6->esri2gpd) (2.8.2)\n",
      "Requirement already satisfied: pytz>=2020.1 in /Users/laura.kukkonen/.pyenv/versions/3.11.6/lib/python3.11/site-packages (from pandas>=1.4.0->geopandas>=0.6->esri2gpd) (2023.3.post1)\n",
      "Requirement already satisfied: tzdata>=2022.1 in /Users/laura.kukkonen/.pyenv/versions/3.11.6/lib/python3.11/site-packages (from pandas>=1.4.0->geopandas>=0.6->esri2gpd) (2023.3)\n",
      "Downloading esri2gpd-1.0.13-py3-none-any.whl (4.2 kB)\n",
      "Downloading arcgis2geojson-2.0.1-py3-none-any.whl (5.1 kB)\n",
      "Installing collected packages: arcgis2geojson, esri2gpd\n",
      "Successfully installed arcgis2geojson-2.0.1 esri2gpd-1.0.13\n",
      "\n",
      "\u001b[1m[\u001b[0m\u001b[34;49mnotice\u001b[0m\u001b[1;39;49m]\u001b[0m\u001b[39;49m A new release of pip is available: \u001b[0m\u001b[31;49m23.2.1\u001b[0m\u001b[39;49m -> \u001b[0m\u001b[32;49m24.0\u001b[0m\n",
      "\u001b[1m[\u001b[0m\u001b[34;49mnotice\u001b[0m\u001b[1;39;49m]\u001b[0m\u001b[39;49m To update, run: \u001b[0m\u001b[32;49mpip install --upgrade pip\u001b[0m\n"
     ]
    }
   ],
   "source": [
    "!pip install esri2gpd"
   ]
  },
  {
   "cell_type": "code",
   "execution_count": 4,
   "metadata": {},
   "outputs": [
    {
     "data": {
      "text/html": [
       "<div>\n",
       "<style scoped>\n",
       "    .dataframe tbody tr th:only-of-type {\n",
       "        vertical-align: middle;\n",
       "    }\n",
       "\n",
       "    .dataframe tbody tr th {\n",
       "        vertical-align: top;\n",
       "    }\n",
       "\n",
       "    .dataframe thead th {\n",
       "        text-align: right;\n",
       "    }\n",
       "</style>\n",
       "<table border=\"1\" class=\"dataframe\">\n",
       "  <thead>\n",
       "    <tr style=\"text-align: right;\">\n",
       "      <th></th>\n",
       "      <th>geometry</th>\n",
       "      <th>OBJECTID</th>\n",
       "    </tr>\n",
       "  </thead>\n",
       "  <tbody>\n",
       "    <tr>\n",
       "      <th>0</th>\n",
       "      <td>MULTIPOLYGON (((-71.12274 44.38727, -71.10989 ...</td>\n",
       "      <td>1</td>\n",
       "    </tr>\n",
       "    <tr>\n",
       "      <th>1</th>\n",
       "      <td>MULTIPOLYGON (((-70.89376 44.34330, -70.88466 ...</td>\n",
       "      <td>2</td>\n",
       "    </tr>\n",
       "    <tr>\n",
       "      <th>2</th>\n",
       "      <td>MULTIPOLYGON (((-71.46661 44.46169, -71.46253 ...</td>\n",
       "      <td>3</td>\n",
       "    </tr>\n",
       "    <tr>\n",
       "      <th>3</th>\n",
       "      <td>MULTIPOLYGON (((-71.05115 44.09265, -71.03808 ...</td>\n",
       "      <td>4</td>\n",
       "    </tr>\n",
       "    <tr>\n",
       "      <th>4</th>\n",
       "      <td>MULTIPOLYGON (((-71.66645 44.20939, -71.62711 ...</td>\n",
       "      <td>5</td>\n",
       "    </tr>\n",
       "  </tbody>\n",
       "</table>\n",
       "</div>"
      ],
      "text/plain": [
       "                                            geometry  OBJECTID\n",
       "0  MULTIPOLYGON (((-71.12274 44.38727, -71.10989 ...         1\n",
       "1  MULTIPOLYGON (((-70.89376 44.34330, -70.88466 ...         2\n",
       "2  MULTIPOLYGON (((-71.46661 44.46169, -71.46253 ...         3\n",
       "3  MULTIPOLYGON (((-71.05115 44.09265, -71.03808 ...         4\n",
       "4  MULTIPOLYGON (((-71.66645 44.20939, -71.62711 ...         5"
      ]
     },
     "execution_count": 4,
     "metadata": {},
     "output_type": "execute_result"
    }
   ],
   "source": [
    "# type: esriFieldTypeDouble, alias: Shape_Area\n",
    "import esri2gpd\n",
    "\n",
    "url = \"https://apps.fs.usda.gov/fsgisx02/rest/services/wo_nfs_gstc/WO_OSC_GapAnalysis_OldGrowthAndMatureForests/MapServer/29\"\n",
    "gdf = esri2gpd.get(url, fields=['OBJECTID', 'Shape', 'Fireshed_Name', 'Shape_Length', 'Shape_Area', 'MajRegion', 'MATURE_ACRES', 'MATURE_SE_PERC', 'OLDGROWTH_ACRES', 'OLDGROWTH_SE_PERC', 'ForestType', 'Division', 'Nine_Class', 'Trimmed_Area'])\n",
    "\n",
    "gdf.head()"
   ]
  },
  {
   "cell_type": "code",
   "execution_count": 9,
   "metadata": {},
   "outputs": [
    {
     "data": {
      "text/plain": [
       "2192"
      ]
     },
     "execution_count": 9,
     "metadata": {},
     "output_type": "execute_result"
    }
   ],
   "source": [
    "# number of rows\n",
    "len(gdf)"
   ]
  },
  {
   "cell_type": "code",
   "execution_count": 10,
   "metadata": {},
   "outputs": [
    {
     "data": {
      "text/plain": [
       "{'DXF': 'rw',\n",
       " 'CSV': 'raw',\n",
       " 'OpenFileGDB': 'raw',\n",
       " 'ESRIJSON': 'r',\n",
       " 'ESRI Shapefile': 'raw',\n",
       " 'FlatGeobuf': 'raw',\n",
       " 'GeoJSON': 'raw',\n",
       " 'GeoJSONSeq': 'raw',\n",
       " 'GPKG': 'raw',\n",
       " 'GML': 'rw',\n",
       " 'OGR_GMT': 'rw',\n",
       " 'GPX': 'rw',\n",
       " 'MapInfo File': 'raw',\n",
       " 'DGN': 'raw',\n",
       " 'S57': 'r',\n",
       " 'SQLite': 'raw',\n",
       " 'TopoJSON': 'r'}"
      ]
     },
     "execution_count": 10,
     "metadata": {},
     "output_type": "execute_result"
    }
   ],
   "source": [
    "import fiona\n",
    "fiona.supported_drivers  "
   ]
  },
  {
   "cell_type": "code",
   "execution_count": 8,
   "metadata": {},
   "outputs": [
    {
     "data": {
      "text/html": [
       "<div>\n",
       "<style scoped>\n",
       "    .dataframe tbody tr th:only-of-type {\n",
       "        vertical-align: middle;\n",
       "    }\n",
       "\n",
       "    .dataframe tbody tr th {\n",
       "        vertical-align: top;\n",
       "    }\n",
       "\n",
       "    .dataframe thead th {\n",
       "        text-align: right;\n",
       "    }\n",
       "</style>\n",
       "<table border=\"1\" class=\"dataframe\">\n",
       "  <thead>\n",
       "    <tr style=\"text-align: right;\">\n",
       "      <th></th>\n",
       "      <th>geometry</th>\n",
       "      <th>OBJECTID</th>\n",
       "      <th>Fireshed_Name</th>\n",
       "      <th>Shape_Length</th>\n",
       "      <th>Shape_Area</th>\n",
       "      <th>MajRegion</th>\n",
       "      <th>MATURE_ACRES</th>\n",
       "      <th>MATURE_SE_PERC</th>\n",
       "      <th>OLD_GROWTH_ACRES</th>\n",
       "      <th>OLD_GROWTH_SE_PERC</th>\n",
       "      <th>ForestType</th>\n",
       "      <th>Division</th>\n",
       "      <th>Nine_Class</th>\n",
       "      <th>Trimmed_Area</th>\n",
       "    </tr>\n",
       "  </thead>\n",
       "  <tbody>\n",
       "    <tr>\n",
       "      <th>0</th>\n",
       "      <td>MULTIPOLYGON (((-71.12274 44.38727, -71.10989 ...</td>\n",
       "      <td>1</td>\n",
       "      <td>Berlin, New Hampshire</td>\n",
       "      <td>117201.264362</td>\n",
       "      <td>5.122621e+07</td>\n",
       "      <td>09</td>\n",
       "      <td>3669</td>\n",
       "      <td>72</td>\n",
       "      <td>0</td>\n",
       "      <td>0</td>\n",
       "      <td>Maple/beech/birch</td>\n",
       "      <td>Warm Continental</td>\n",
       "      <td>1</td>\n",
       "      <td>12658.220430</td>\n",
       "    </tr>\n",
       "    <tr>\n",
       "      <th>1</th>\n",
       "      <td>MULTIPOLYGON (((-70.89376 44.34330, -70.88466 ...</td>\n",
       "      <td>2</td>\n",
       "      <td>Rumford, Maine</td>\n",
       "      <td>43604.049123</td>\n",
       "      <td>1.023403e+07</td>\n",
       "      <td>09</td>\n",
       "      <td>6458</td>\n",
       "      <td>49</td>\n",
       "      <td>0</td>\n",
       "      <td>0</td>\n",
       "      <td>Maple/beech/birch</td>\n",
       "      <td>Warm Continental</td>\n",
       "      <td>1</td>\n",
       "      <td>2528.873850</td>\n",
       "    </tr>\n",
       "    <tr>\n",
       "      <th>2</th>\n",
       "      <td>MULTIPOLYGON (((-71.46661 44.46169, -71.46253 ...</td>\n",
       "      <td>3</td>\n",
       "      <td>Lancaster, New Hampshire</td>\n",
       "      <td>140404.362282</td>\n",
       "      <td>1.266545e+08</td>\n",
       "      <td>09</td>\n",
       "      <td>26730</td>\n",
       "      <td>28</td>\n",
       "      <td>0</td>\n",
       "      <td>0</td>\n",
       "      <td>Maple/beech/birch</td>\n",
       "      <td>Warm Continental</td>\n",
       "      <td>1</td>\n",
       "      <td>31296.873188</td>\n",
       "    </tr>\n",
       "    <tr>\n",
       "      <th>3</th>\n",
       "      <td>MULTIPOLYGON (((-71.05115 44.09265, -71.03808 ...</td>\n",
       "      <td>4</td>\n",
       "      <td>Black Mountain Cabin, New Hampshire</td>\n",
       "      <td>329453.294384</td>\n",
       "      <td>5.902248e+08</td>\n",
       "      <td>09</td>\n",
       "      <td>111289</td>\n",
       "      <td>12</td>\n",
       "      <td>2096</td>\n",
       "      <td>101</td>\n",
       "      <td>Maple/beech/birch</td>\n",
       "      <td>Warm Continental</td>\n",
       "      <td>7</td>\n",
       "      <td>145847.144069</td>\n",
       "    </tr>\n",
       "    <tr>\n",
       "      <th>4</th>\n",
       "      <td>MULTIPOLYGON (((-71.66645 44.20939, -71.62711 ...</td>\n",
       "      <td>5</td>\n",
       "      <td>Gorham, New Hampshire</td>\n",
       "      <td>508516.746307</td>\n",
       "      <td>7.426653e+08</td>\n",
       "      <td>09</td>\n",
       "      <td>146154</td>\n",
       "      <td>11</td>\n",
       "      <td>0</td>\n",
       "      <td>0</td>\n",
       "      <td>Maple/beech/birch</td>\n",
       "      <td>Warm Continental</td>\n",
       "      <td>7</td>\n",
       "      <td>183515.856429</td>\n",
       "    </tr>\n",
       "  </tbody>\n",
       "</table>\n",
       "</div>"
      ],
      "text/plain": [
       "                                            geometry  OBJECTID  \\\n",
       "0  MULTIPOLYGON (((-71.12274 44.38727, -71.10989 ...         1   \n",
       "1  MULTIPOLYGON (((-70.89376 44.34330, -70.88466 ...         2   \n",
       "2  MULTIPOLYGON (((-71.46661 44.46169, -71.46253 ...         3   \n",
       "3  MULTIPOLYGON (((-71.05115 44.09265, -71.03808 ...         4   \n",
       "4  MULTIPOLYGON (((-71.66645 44.20939, -71.62711 ...         5   \n",
       "\n",
       "                         Fireshed_Name   Shape_Length    Shape_Area MajRegion  \\\n",
       "0                Berlin, New Hampshire  117201.264362  5.122621e+07        09   \n",
       "1                       Rumford, Maine   43604.049123  1.023403e+07        09   \n",
       "2             Lancaster, New Hampshire  140404.362282  1.266545e+08        09   \n",
       "3  Black Mountain Cabin, New Hampshire  329453.294384  5.902248e+08        09   \n",
       "4                Gorham, New Hampshire  508516.746307  7.426653e+08        09   \n",
       "\n",
       "   MATURE_ACRES  MATURE_SE_PERC  OLD_GROWTH_ACRES  OLD_GROWTH_SE_PERC  \\\n",
       "0          3669              72                 0                   0   \n",
       "1          6458              49                 0                   0   \n",
       "2         26730              28                 0                   0   \n",
       "3        111289              12              2096                 101   \n",
       "4        146154              11                 0                   0   \n",
       "\n",
       "          ForestType          Division Nine_Class   Trimmed_Area  \n",
       "0  Maple/beech/birch  Warm Continental          1   12658.220430  \n",
       "1  Maple/beech/birch  Warm Continental          1    2528.873850  \n",
       "2  Maple/beech/birch  Warm Continental          1   31296.873188  \n",
       "3  Maple/beech/birch  Warm Continental          7  145847.144069  \n",
       "4  Maple/beech/birch  Warm Continental          7  183515.856429  "
      ]
     },
     "execution_count": 8,
     "metadata": {},
     "output_type": "execute_result"
    }
   ],
   "source": [
    "url = \"https://apps.fs.usda.gov/fsgisx02/rest/services/wo_nfs_gstc/WO_OSC_GapAnalysis_OldGrowthAndMatureForests/MapServer/29\"\n",
    "gdf1 = esri2gpd.get(url, fields=['OBJECTID', 'Shape', 'Fireshed_Name', 'Shape_Length', 'Shape_Area', 'MajRegion', 'MATURE_ACRES', 'MATURE_SE_PERC', 'OLD_GROWTH_ACRES', 'OLD_GROWTH_SE_PERC', 'ForestType', 'Division', 'Nine_Class', 'Trimmed_Area'])\n",
    "\n",
    "gdf1.head()"
   ]
  },
  {
   "cell_type": "code",
   "execution_count": 11,
   "metadata": {},
   "outputs": [
    {
     "name": "stderr",
     "output_type": "stream",
     "text": [
      "/var/folders/wc/9pxlbshj22d2nn6vztv8z6z40000gq/T/ipykernel_71504/925702795.py:1: UserWarning: Column names longer than 10 characters will be truncated when saved to ESRI Shapefile.\n",
      "  gdf1.to_file('matureoldgrowth.shp')\n"
     ]
    }
   ],
   "source": [
    "gdf1.to_file('matureoldgrowth.shp') "
   ]
  },
  {
   "cell_type": "code",
   "execution_count": 12,
   "metadata": {},
   "outputs": [],
   "source": [
    "#save the gdf to a geojson inside the geojson folder\n",
    "gdf1.to_file('geojson/matureoldgrowth.geojson', driver='GeoJSON')"
   ]
  },
  {
   "cell_type": "code",
   "execution_count": null,
   "metadata": {},
   "outputs": [],
   "source": []
  }
 ],
 "metadata": {
  "kernelspec": {
   "display_name": "Python 3",
   "language": "python",
   "name": "python3"
  },
  "language_info": {
   "codemirror_mode": {
    "name": "ipython",
    "version": 3
   },
   "file_extension": ".py",
   "mimetype": "text/x-python",
   "name": "python",
   "nbconvert_exporter": "python",
   "pygments_lexer": "ipython3",
   "version": "3.11.6"
  },
  "orig_nbformat": 4
 },
 "nbformat": 4,
 "nbformat_minor": 2
}
